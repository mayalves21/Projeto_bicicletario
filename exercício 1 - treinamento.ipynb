{
 "cells": [
  {
   "cell_type": "code",
   "execution_count": 1,
   "id": "6e0dbb56",
   "metadata": {},
   "outputs": [
    {
     "name": "stderr",
     "output_type": "stream",
     "text": [
      "WARNING: An illegal reflective access operation has occurred\n",
      "WARNING: Illegal reflective access by org.apache.spark.unsafe.Platform (file:/Users/mayaraevillyn/opt/anaconda3/lib/python3.9/site-packages/pyspark/jars/spark-unsafe_2.12-3.2.1.jar) to constructor java.nio.DirectByteBuffer(long,int)\n",
      "WARNING: Please consider reporting this to the maintainers of org.apache.spark.unsafe.Platform\n",
      "WARNING: Use --illegal-access=warn to enable warnings of further illegal reflective access operations\n",
      "WARNING: All illegal access operations will be denied in a future release\n",
      "Using Spark's default log4j profile: org/apache/spark/log4j-defaults.properties\n",
      "Setting default log level to \"WARN\".\n",
      "To adjust logging level use sc.setLogLevel(newLevel). For SparkR, use setLogLevel(newLevel).\n",
      "22/05/23 21:44:09 WARN NativeCodeLoader: Unable to load native-hadoop library for your platform... using builtin-java classes where applicable\n"
     ]
    },
    {
     "data": {
      "text/html": [
       "<style>pre { white-space: pre !important; }</style>"
      ],
      "text/plain": [
       "<IPython.core.display.HTML object>"
      ]
     },
     "metadata": {},
     "output_type": "display_data"
    }
   ],
   "source": [
    "from pyspark.sql import SparkSession\n",
    "spark = SparkSession.builder \\\n",
    "   .master(\"local\") \\\n",
    "   .appName(\"Linear Regression Model\") \\\n",
    "   .config(\"spark.executor.memory\", \"1gb\") \\\n",
    "   .getOrCreate()\n",
    "sc = spark.sparkContext\n",
    "from pyspark.sql.types import *\n",
    "from pyspark.sql.functions import *\n",
    "from pyspark.sql import functions as f\n",
    "from IPython.core.display import HTML\n",
    "display(HTML(\"<style>pre { white-space: pre !important; }</style>\"))\n",
    "spark = SparkSession.builder.appName('sparkdf').getOrCreate()\n",
    "def create_session():\n",
    "    spk = SparkSession.builder \\\n",
    "        .master(\"local\") \\\n",
    "        .appName(\"Filter_values.com\") \\\n",
    "        .getOrCreate()\n",
    "    return spk\n",
    "spark = SparkSession.builder.appName('Joins').getOrCreate()"
   ]
  },
  {
   "cell_type": "code",
   "execution_count": 21,
   "id": "e31af133",
   "metadata": {},
   "outputs": [
    {
     "name": "stdout",
     "output_type": "stream",
     "text": [
      "+--------+----------+---------+---------+--------+\n",
      "|VendasID|VendedorID|ClienteID|     Data|   Total|\n",
      "+--------+----------+---------+---------+--------+\n",
      "|       1|         1|       91| 1/1/2019|  8053.6|\n",
      "|       2|         6|      185| 1/1/2020|   150.4|\n",
      "|       3|         7|       31| 2/1/2020|  6087.0|\n",
      "|       4|         5|       31| 2/1/2019| 13828.6|\n",
      "|       5|         5|       31| 3/1/2018|26096.66|\n",
      "|       6|         5|       31| 4/1/2020| 18402.0|\n",
      "|       7|         5|       31| 6/1/2019|  7524.2|\n",
      "|       8|         5|      186| 6/1/2019| 12036.6|\n",
      "|       9|         7|       91| 6/1/2020| 2804.75|\n",
      "|      10|         2|      202| 6/1/2020|  8852.0|\n",
      "|      11|         7|       58| 8/1/2019|16545.25|\n",
      "|      12|         7|       58| 9/1/2018|11411.88|\n",
      "|      13|         7|       58|10/1/2019| 15829.7|\n",
      "|      14|         3|      249|12/1/2020| 6154.36|\n",
      "|      15|         4|      249|12/1/2018| 3255.08|\n",
      "|      16|         7|      192|13/1/2020| 2901.25|\n",
      "|      17|         2|       79|13/1/2019| 15829.7|\n",
      "|      18|        10|       79|14/1/2019|16996.36|\n",
      "|      19|        10|      191|14/1/2019|   155.0|\n",
      "|      20|         9|      218|15/1/2018|  131.75|\n",
      "+--------+----------+---------+---------+--------+\n",
      "only showing top 20 rows\n",
      "\n"
     ]
    }
   ],
   "source": [
    "# Abrindo o arquivo de vendas no formato parquet\n",
    "vendas = spark.read.load (\"/Users/mayaraevillyn/Downloads/download/Atividades/Vendas.parquet\")\n",
    "vendas.show()"
   ]
  },
  {
   "cell_type": "code",
   "execution_count": 18,
   "id": "3f208b4d",
   "metadata": {},
   "outputs": [
    {
     "name": "stdout",
     "output_type": "stream",
     "text": [
      "+---------+--------------------+------+------+--------+\n",
      "|ClienteID|             Cliente|Estado|Genero|  Status|\n",
      "+---------+--------------------+------+------+--------+\n",
      "|        1|Adelina Buenaventura|    RJ|     M|  Silver|\n",
      "|        2|        Adelino Gago|    RJ|     M|  Silver|\n",
      "|        3|     Adolfo Patrício|    PE|     M|  Silver|\n",
      "|        4|    Adriana Guedelha|    RO|     F|Platinum|\n",
      "|        5|       Adélio Lisboa|    SE|     M|  Silver|\n",
      "|        6|       Adérito Bahía|    MA|     M|  Silver|\n",
      "|        7|       Aida Dorneles|    RN|     F|  Silver|\n",
      "|        8|   Alarico Quinterno|    AC|     M|  Silver|\n",
      "|        9|    Alberto Cezimbra|    AM|     M|  Silver|\n",
      "|       10|    Alberto Monsanto|    RN|     M|    Gold|\n",
      "|       11|       Albino Canela|    AC|     M|  Silver|\n",
      "|       12|     Alceste Varanda|    RR|     F|  Silver|\n",
      "|       13|  Alcides Carvalhais|    RO|     M|  Silver|\n",
      "|       14|        Aldo Martins|    GO|     M|  Silver|\n",
      "|       15|   Alexandra Tabares|    MG|     F|  Silver|\n",
      "|       16|      Alfredo Cotrim|    SC|     M|  Silver|\n",
      "|       17|     Almeno Figueira|    SC|     M|  Silver|\n",
      "|       18|      Alvito Peralta|    AM|     M|  Silver|\n",
      "|       19|     Amadeu Martinho|    RN|     M|  Silver|\n",
      "|       20|      Amélia Estévez|    PE|     F|  Silver|\n",
      "+---------+--------------------+------+------+--------+\n",
      "only showing top 20 rows\n",
      "\n"
     ]
    }
   ],
   "source": [
    "# Abrindo o arquivo de clientes também no formato parquet\n",
    "clientes = spark.read.load(\"/Users/mayaraevillyn/Downloads/download/Atividades/Clientes.parquet\")\n",
    "clientes.show()"
   ]
  },
  {
   "cell_type": "code",
   "execution_count": 19,
   "id": "7162cafc",
   "metadata": {},
   "outputs": [
    {
     "data": {
      "text/plain": [
       "pyspark.sql.dataframe.DataFrame"
      ]
     },
     "execution_count": 19,
     "metadata": {},
     "output_type": "execute_result"
    }
   ],
   "source": [
    "# Vendo o tipo de arquivo é a variável clientes\n",
    "type (clientes)"
   ]
  },
  {
   "cell_type": "code",
   "execution_count": 20,
   "id": "d0bae25b",
   "metadata": {},
   "outputs": [
    {
     "name": "stdout",
     "output_type": "stream",
     "text": [
      "+--------------------+------+--------+\n",
      "|             Cliente|Estado|  Status|\n",
      "+--------------------+------+--------+\n",
      "|Adelina Buenaventura|    RJ|  Silver|\n",
      "|        Adelino Gago|    RJ|  Silver|\n",
      "|     Adolfo Patrício|    PE|  Silver|\n",
      "|    Adriana Guedelha|    RO|Platinum|\n",
      "|       Adélio Lisboa|    SE|  Silver|\n",
      "|       Adérito Bahía|    MA|  Silver|\n",
      "|       Aida Dorneles|    RN|  Silver|\n",
      "|   Alarico Quinterno|    AC|  Silver|\n",
      "|    Alberto Cezimbra|    AM|  Silver|\n",
      "|    Alberto Monsanto|    RN|    Gold|\n",
      "|       Albino Canela|    AC|  Silver|\n",
      "|     Alceste Varanda|    RR|  Silver|\n",
      "|  Alcides Carvalhais|    RO|  Silver|\n",
      "|        Aldo Martins|    GO|  Silver|\n",
      "|   Alexandra Tabares|    MG|  Silver|\n",
      "|      Alfredo Cotrim|    SC|  Silver|\n",
      "|     Almeno Figueira|    SC|  Silver|\n",
      "|      Alvito Peralta|    AM|  Silver|\n",
      "|     Amadeu Martinho|    RN|  Silver|\n",
      "|      Amélia Estévez|    PE|  Silver|\n",
      "+--------------------+------+--------+\n",
      "only showing top 20 rows\n",
      "\n"
     ]
    }
   ],
   "source": [
    "# Visualizando via select as colunas \"Clientes\", \"Estado\" e \"Status\"\n",
    "parte1 = clientes.select(\"Cliente\",\"Estado\",\"Status\")\n",
    "parte1.show()"
   ]
  },
  {
   "cell_type": "code",
   "execution_count": 22,
   "id": "34406bb6",
   "metadata": {},
   "outputs": [
    {
     "name": "stdout",
     "output_type": "stream",
     "text": [
      "+------+--------+\n",
      "|Estado|  Status|\n",
      "+------+--------+\n",
      "|    RO|Platinum|\n",
      "|    RN|    Gold|\n",
      "|    RS|    Gold|\n",
      "|    SP|    Gold|\n",
      "|    AM|    Gold|\n",
      "|    TO|    Gold|\n",
      "|    PR|    Gold|\n",
      "|    AM|    Gold|\n",
      "|    CE|Platinum|\n",
      "|    PE|    Gold|\n",
      "|    RR|Platinum|\n",
      "|    BA|    Gold|\n",
      "|    GO|Platinum|\n",
      "+------+--------+\n",
      "\n"
     ]
    }
   ],
   "source": [
    "# Filtrando por estado os clientes platinum e gold\n",
    "parte2 = clientes.select(\"Estado\",\"Status\").where(clientes.Status != \"Silver\")\n",
    "parte2.show()"
   ]
  },
  {
   "cell_type": "code",
   "execution_count": 24,
   "id": "e9bc5522",
   "metadata": {},
   "outputs": [],
   "source": [
    "df_left = vendas"
   ]
  },
  {
   "cell_type": "code",
   "execution_count": 25,
   "id": "06a61e5d",
   "metadata": {},
   "outputs": [],
   "source": [
    "df_right = clientes"
   ]
  },
  {
   "cell_type": "code",
   "execution_count": 29,
   "id": "6931d4db",
   "metadata": {},
   "outputs": [
    {
     "name": "stdout",
     "output_type": "stream",
     "text": [
      "+---------+--------+----------+----------+--------+--------------------+------+------+------+\n",
      "|ClienteID|VendasID|VendedorID|      Data|   Total|             Cliente|Estado|Genero|Status|\n",
      "+---------+--------+----------+----------+--------+--------------------+------+------+------+\n",
      "|        1|     382|         7|13/12/2019| 9379.44|Adelina Buenaventura|    RJ|     M|Silver|\n",
      "|        2|     254|         3| 22/8/2020| 5782.68|        Adelino Gago|    RJ|     M|Silver|\n",
      "|        3|     336|         5| 7/11/2020| 10658.9|     Adolfo Patrício|    PE|     M|Silver|\n",
      "|        5|     292|         7| 29/9/2020|13543.56|       Adélio Lisboa|    SE|     M|Silver|\n",
      "|        5|     374|         1| 5/12/2019|17096.16|       Adélio Lisboa|    SE|     M|Silver|\n",
      "|        5|     355|         5|23/11/2019|27016.24|       Adélio Lisboa|    SE|     M|Silver|\n",
      "|        8|     378|         8|10/12/2018|   155.0|   Alarico Quinterno|    AC|     M|Silver|\n",
      "|       14|     316|        10|25/10/2019|  253.58|        Aldo Martins|    GO|     M|Silver|\n",
      "|       14|     258|         8| 26/8/2018|  7360.8|        Aldo Martins|    GO|     M|Silver|\n",
      "|       15|     147|         4|  8/5/2018|  9321.8|   Alexandra Tabares|    MG|     F|Silver|\n",
      "|       15|     136|        10| 29/4/2020|10384.85|   Alexandra Tabares|    MG|     F|Silver|\n",
      "|       15|     154|         3| 14/5/2018| 7990.05|   Alexandra Tabares|    MG|     F|Silver|\n",
      "|       16|      91|         4| 15/3/2019|  103.28|      Alfredo Cotrim|    SC|     M|Silver|\n",
      "|       16|     149|         5|  9/5/2018|  291.55|      Alfredo Cotrim|    SC|     M|Silver|\n",
      "|       17|     351|        10|21/11/2020|   103.5|     Almeno Figueira|    SC|     M|Silver|\n",
      "|       19|     312|         2|22/10/2019|  2656.1|     Amadeu Martinho|    RN|     M|Silver|\n",
      "|       21|     331|         1| 2/11/2018|12075.85|           Ana Homem|    RN|     F|Silver|\n",
      "|       24|     313|        10|22/10/2019| 2618.85|   Anacleto Guterres|    PI|     M|Silver|\n",
      "|       27|      66|         8| 21/2/2019|  3886.5|           Anna Beça|    AP|     F|Silver|\n",
      "|       27|      96|        10| 19/3/2019|17165.79|           Anna Beça|    AP|     F|Silver|\n",
      "+---------+--------+----------+----------+--------+--------------------+------+------+------+\n",
      "only showing top 20 rows\n",
      "\n"
     ]
    }
   ],
   "source": [
    "# Fiz um join para juntar as duas tabelas pelo o ClienteID\n",
    "parte3_1 = df_left.join(df_right, on=['ClienteID'], how='Inner').orderBy('ClienteID')\n",
    "parte3_1.show()"
   ]
  },
  {
   "cell_type": "code",
   "execution_count": 35,
   "id": "fb878614",
   "metadata": {},
   "outputs": [
    {
     "name": "stdout",
     "output_type": "stream",
     "text": [
      "+--------+-------------+\n",
      "|  Status|sum(VendasID)|\n",
      "+--------+-------------+\n",
      "|Platinum|          719|\n",
      "|    Gold|          985|\n",
      "|  Silver|        78496|\n",
      "+--------+-------------+\n",
      "\n"
     ]
    }
   ],
   "source": [
    "# Após a junção, separei por status a somatória de vendas\n",
    "parte3_2 = parte3_1.groupBy(\"Status\").agg(sum(\"VendasID\")).orderBy(f.col(\"Sum(VendasID)\").asc())\n",
    "parte3_2.show()"
   ]
  },
  {
   "cell_type": "code",
   "execution_count": null,
   "id": "a254d2db",
   "metadata": {},
   "outputs": [],
   "source": []
  }
 ],
 "metadata": {
  "kernelspec": {
   "display_name": "Python 3 (ipykernel)",
   "language": "python",
   "name": "python3"
  },
  "language_info": {
   "codemirror_mode": {
    "name": "ipython",
    "version": 3
   },
   "file_extension": ".py",
   "mimetype": "text/x-python",
   "name": "python",
   "nbconvert_exporter": "python",
   "pygments_lexer": "ipython3",
   "version": "3.9.7"
  }
 },
 "nbformat": 4,
 "nbformat_minor": 5
}
