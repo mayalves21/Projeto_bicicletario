{
 "cells": [
  {
   "cell_type": "code",
   "execution_count": 1,
   "id": "6e0dbb56",
   "metadata": {},
   "outputs": [
    {
     "name": "stderr",
     "output_type": "stream",
     "text": [
      "22/06/03 10:01:43 WARN Utils: Your hostname, MacBook-Air-de-Mayara.local resolves to a loopback address: 127.0.0.1; using 9.7.50.57 instead (on interface en0)\n",
      "22/06/03 10:01:43 WARN Utils: Set SPARK_LOCAL_IP if you need to bind to another address\n",
      "WARNING: An illegal reflective access operation has occurred\n",
      "WARNING: Illegal reflective access by org.apache.spark.unsafe.Platform (file:/Users/mayaraevillyn/opt/anaconda3/lib/python3.9/site-packages/pyspark/jars/spark-unsafe_2.12-3.2.1.jar) to constructor java.nio.DirectByteBuffer(long,int)\n",
      "WARNING: Please consider reporting this to the maintainers of org.apache.spark.unsafe.Platform\n",
      "WARNING: Use --illegal-access=warn to enable warnings of further illegal reflective access operations\n",
      "WARNING: All illegal access operations will be denied in a future release\n",
      "Using Spark's default log4j profile: org/apache/spark/log4j-defaults.properties\n",
      "Setting default log level to \"WARN\".\n",
      "To adjust logging level use sc.setLogLevel(newLevel). For SparkR, use setLogLevel(newLevel).\n",
      "22/06/03 10:01:45 WARN NativeCodeLoader: Unable to load native-hadoop library for your platform... using builtin-java classes where applicable\n"
     ]
    },
    {
     "data": {
      "text/html": [
       "<style>pre { white-space: pre !important; }</style>"
      ],
      "text/plain": [
       "<IPython.core.display.HTML object>"
      ]
     },
     "metadata": {},
     "output_type": "display_data"
    }
   ],
   "source": [
    "from pyspark.sql import SparkSession\n",
    "spark = SparkSession.builder \\\n",
    "   .master(\"local\") \\\n",
    "   .appName(\"Linear Regression Model\") \\\n",
    "   .config(\"spark.executor.memory\", \"1gb\") \\\n",
    "   .getOrCreate()\n",
    "sc = spark.sparkContext\n",
    "from pyspark.sql.types import *\n",
    "from pyspark.sql.functions import *\n",
    "from pyspark.sql import functions as f\n",
    "from pyspark.sql.column import *\n",
    "from IPython.core.display import HTML\n",
    "display(HTML(\"<style>pre { white-space: pre !important; }</style>\"))\n",
    "spark = SparkSession.builder.appName('sparkdf').getOrCreate()\n",
    "def create_session():\n",
    "    spk = SparkSession.builder \\\n",
    "        .master(\"local\") \\\n",
    "        .appName(\"Filter_values.com\") \\\n",
    "        .getOrCreate()\n",
    "    return spk\n",
    "spark = SparkSession.builder.appName('Joins').getOrCreate()"
   ]
  },
  {
   "cell_type": "code",
   "execution_count": 2,
   "id": "e31af133",
   "metadata": {},
   "outputs": [
    {
     "name": "stderr",
     "output_type": "stream",
     "text": [
      "                                                                                \r"
     ]
    },
    {
     "name": "stdout",
     "output_type": "stream",
     "text": [
      "+--------+----------+---------+---------+--------+\n",
      "|VendasID|VendedorID|ClienteID|     Data|   Total|\n",
      "+--------+----------+---------+---------+--------+\n",
      "|       1|         1|       91| 1/1/2019|  8053.6|\n",
      "|       2|         6|      185| 1/1/2020|   150.4|\n",
      "|       3|         7|       31| 2/1/2020|  6087.0|\n",
      "|       4|         5|       31| 2/1/2019| 13828.6|\n",
      "|       5|         5|       31| 3/1/2018|26096.66|\n",
      "|       6|         5|       31| 4/1/2020| 18402.0|\n",
      "|       7|         5|       31| 6/1/2019|  7524.2|\n",
      "|       8|         5|      186| 6/1/2019| 12036.6|\n",
      "|       9|         7|       91| 6/1/2020| 2804.75|\n",
      "|      10|         2|      202| 6/1/2020|  8852.0|\n",
      "|      11|         7|       58| 8/1/2019|16545.25|\n",
      "|      12|         7|       58| 9/1/2018|11411.88|\n",
      "|      13|         7|       58|10/1/2019| 15829.7|\n",
      "|      14|         3|      249|12/1/2020| 6154.36|\n",
      "|      15|         4|      249|12/1/2018| 3255.08|\n",
      "|      16|         7|      192|13/1/2020| 2901.25|\n",
      "|      17|         2|       79|13/1/2019| 15829.7|\n",
      "|      18|        10|       79|14/1/2019|16996.36|\n",
      "|      19|        10|      191|14/1/2019|   155.0|\n",
      "|      20|         9|      218|15/1/2018|  131.75|\n",
      "+--------+----------+---------+---------+--------+\n",
      "only showing top 20 rows\n",
      "\n"
     ]
    }
   ],
   "source": [
    "# Abrindo o arquivo de vendas no formato parquet\n",
    "vendas = spark.read.load (\"/Users/mayaraevillyn/Downloads/download/Atividades/Vendas.parquet\")\n",
    "vendas.show()"
   ]
  },
  {
   "cell_type": "code",
   "execution_count": 3,
   "id": "3f208b4d",
   "metadata": {},
   "outputs": [
    {
     "name": "stdout",
     "output_type": "stream",
     "text": [
      "+---------+--------------------+------+------+--------+\n",
      "|ClienteID|             Cliente|Estado|Genero|  Status|\n",
      "+---------+--------------------+------+------+--------+\n",
      "|        1|Adelina Buenaventura|    RJ|     M|  Silver|\n",
      "|        2|        Adelino Gago|    RJ|     M|  Silver|\n",
      "|        3|     Adolfo Patrício|    PE|     M|  Silver|\n",
      "|        4|    Adriana Guedelha|    RO|     F|Platinum|\n",
      "|        5|       Adélio Lisboa|    SE|     M|  Silver|\n",
      "|        6|       Adérito Bahía|    MA|     M|  Silver|\n",
      "|        7|       Aida Dorneles|    RN|     F|  Silver|\n",
      "|        8|   Alarico Quinterno|    AC|     M|  Silver|\n",
      "|        9|    Alberto Cezimbra|    AM|     M|  Silver|\n",
      "|       10|    Alberto Monsanto|    RN|     M|    Gold|\n",
      "|       11|       Albino Canela|    AC|     M|  Silver|\n",
      "|       12|     Alceste Varanda|    RR|     F|  Silver|\n",
      "|       13|  Alcides Carvalhais|    RO|     M|  Silver|\n",
      "|       14|        Aldo Martins|    GO|     M|  Silver|\n",
      "|       15|   Alexandra Tabares|    MG|     F|  Silver|\n",
      "|       16|      Alfredo Cotrim|    SC|     M|  Silver|\n",
      "|       17|     Almeno Figueira|    SC|     M|  Silver|\n",
      "|       18|      Alvito Peralta|    AM|     M|  Silver|\n",
      "|       19|     Amadeu Martinho|    RN|     M|  Silver|\n",
      "|       20|      Amélia Estévez|    PE|     F|  Silver|\n",
      "+---------+--------------------+------+------+--------+\n",
      "only showing top 20 rows\n",
      "\n"
     ]
    }
   ],
   "source": [
    "# Abrindo o arquivo de clientes também no formato parquet\n",
    "clientes = spark.read.load(\"/Users/mayaraevillyn/Downloads/download/Atividades/Clientes.parquet\")\n",
    "clientes.show()"
   ]
  },
  {
   "cell_type": "code",
   "execution_count": 19,
   "id": "7162cafc",
   "metadata": {},
   "outputs": [
    {
     "data": {
      "text/plain": [
       "pyspark.sql.dataframe.DataFrame"
      ]
     },
     "execution_count": 19,
     "metadata": {},
     "output_type": "execute_result"
    }
   ],
   "source": [
    "# Vendo o tipo de arquivo é a variável clientes\n",
    "type (clientes)"
   ]
  },
  {
   "cell_type": "code",
   "execution_count": 20,
   "id": "d0bae25b",
   "metadata": {},
   "outputs": [
    {
     "name": "stdout",
     "output_type": "stream",
     "text": [
      "+--------------------+------+--------+\n",
      "|             Cliente|Estado|  Status|\n",
      "+--------------------+------+--------+\n",
      "|Adelina Buenaventura|    RJ|  Silver|\n",
      "|        Adelino Gago|    RJ|  Silver|\n",
      "|     Adolfo Patrício|    PE|  Silver|\n",
      "|    Adriana Guedelha|    RO|Platinum|\n",
      "|       Adélio Lisboa|    SE|  Silver|\n",
      "|       Adérito Bahía|    MA|  Silver|\n",
      "|       Aida Dorneles|    RN|  Silver|\n",
      "|   Alarico Quinterno|    AC|  Silver|\n",
      "|    Alberto Cezimbra|    AM|  Silver|\n",
      "|    Alberto Monsanto|    RN|    Gold|\n",
      "|       Albino Canela|    AC|  Silver|\n",
      "|     Alceste Varanda|    RR|  Silver|\n",
      "|  Alcides Carvalhais|    RO|  Silver|\n",
      "|        Aldo Martins|    GO|  Silver|\n",
      "|   Alexandra Tabares|    MG|  Silver|\n",
      "|      Alfredo Cotrim|    SC|  Silver|\n",
      "|     Almeno Figueira|    SC|  Silver|\n",
      "|      Alvito Peralta|    AM|  Silver|\n",
      "|     Amadeu Martinho|    RN|  Silver|\n",
      "|      Amélia Estévez|    PE|  Silver|\n",
      "+--------------------+------+--------+\n",
      "only showing top 20 rows\n",
      "\n"
     ]
    }
   ],
   "source": [
    "# Visualizando via select as colunas \"Clientes\", \"Estado\" e \"Status\"\n",
    "parte1 = clientes.select(\"Cliente\",\"Estado\",\"Status\")\n",
    "parte1.show()"
   ]
  },
  {
   "cell_type": "code",
   "execution_count": 22,
   "id": "34406bb6",
   "metadata": {},
   "outputs": [
    {
     "name": "stdout",
     "output_type": "stream",
     "text": [
      "+------+--------+\n",
      "|Estado|  Status|\n",
      "+------+--------+\n",
      "|    RO|Platinum|\n",
      "|    RN|    Gold|\n",
      "|    RS|    Gold|\n",
      "|    SP|    Gold|\n",
      "|    AM|    Gold|\n",
      "|    TO|    Gold|\n",
      "|    PR|    Gold|\n",
      "|    AM|    Gold|\n",
      "|    CE|Platinum|\n",
      "|    PE|    Gold|\n",
      "|    RR|Platinum|\n",
      "|    BA|    Gold|\n",
      "|    GO|Platinum|\n",
      "+------+--------+\n",
      "\n"
     ]
    }
   ],
   "source": [
    "# Filtrando por estado os clientes platinum e gold\n",
    "parte2 = clientes.select(\"Estado\",\"Status\").where(clientes.Status != \"Silver\")\n",
    "parte2.show()"
   ]
  },
  {
   "cell_type": "code",
   "execution_count": 7,
   "id": "e9bc5522",
   "metadata": {},
   "outputs": [],
   "source": [
    "df_left = vendas"
   ]
  },
  {
   "cell_type": "code",
   "execution_count": 8,
   "id": "06a61e5d",
   "metadata": {},
   "outputs": [],
   "source": [
    "df_right = clientes"
   ]
  },
  {
   "cell_type": "code",
   "execution_count": 9,
   "id": "6931d4db",
   "metadata": {},
   "outputs": [
    {
     "name": "stdout",
     "output_type": "stream",
     "text": [
      "+---------+--------+----------+----------+--------+--------------------+------+------+------+\n",
      "|ClienteID|VendasID|VendedorID|      Data|   Total|             Cliente|Estado|Genero|Status|\n",
      "+---------+--------+----------+----------+--------+--------------------+------+------+------+\n",
      "|        1|     382|         7|13/12/2019| 9379.44|Adelina Buenaventura|    RJ|     M|Silver|\n",
      "|        2|     254|         3| 22/8/2020| 5782.68|        Adelino Gago|    RJ|     M|Silver|\n",
      "|        3|     336|         5| 7/11/2020| 10658.9|     Adolfo Patrício|    PE|     M|Silver|\n",
      "|        5|     292|         7| 29/9/2020|13543.56|       Adélio Lisboa|    SE|     M|Silver|\n",
      "|        5|     374|         1| 5/12/2019|17096.16|       Adélio Lisboa|    SE|     M|Silver|\n",
      "|        5|     355|         5|23/11/2019|27016.24|       Adélio Lisboa|    SE|     M|Silver|\n",
      "|        8|     378|         8|10/12/2018|   155.0|   Alarico Quinterno|    AC|     M|Silver|\n",
      "|       14|     316|        10|25/10/2019|  253.58|        Aldo Martins|    GO|     M|Silver|\n",
      "|       14|     258|         8| 26/8/2018|  7360.8|        Aldo Martins|    GO|     M|Silver|\n",
      "|       15|     147|         4|  8/5/2018|  9321.8|   Alexandra Tabares|    MG|     F|Silver|\n",
      "|       15|     136|        10| 29/4/2020|10384.85|   Alexandra Tabares|    MG|     F|Silver|\n",
      "|       15|     154|         3| 14/5/2018| 7990.05|   Alexandra Tabares|    MG|     F|Silver|\n",
      "|       16|      91|         4| 15/3/2019|  103.28|      Alfredo Cotrim|    SC|     M|Silver|\n",
      "|       16|     149|         5|  9/5/2018|  291.55|      Alfredo Cotrim|    SC|     M|Silver|\n",
      "|       17|     351|        10|21/11/2020|   103.5|     Almeno Figueira|    SC|     M|Silver|\n",
      "|       19|     312|         2|22/10/2019|  2656.1|     Amadeu Martinho|    RN|     M|Silver|\n",
      "|       21|     331|         1| 2/11/2018|12075.85|           Ana Homem|    RN|     F|Silver|\n",
      "|       24|     313|        10|22/10/2019| 2618.85|   Anacleto Guterres|    PI|     M|Silver|\n",
      "|       27|      66|         8| 21/2/2019|  3886.5|           Anna Beça|    AP|     F|Silver|\n",
      "|       27|      96|        10| 19/3/2019|17165.79|           Anna Beça|    AP|     F|Silver|\n",
      "+---------+--------+----------+----------+--------+--------------------+------+------+------+\n",
      "only showing top 20 rows\n",
      "\n"
     ]
    }
   ],
   "source": [
    "# Fiz um join para juntar as duas tabelas pelo o ClienteID\n",
    "tabcompleta = df_left.join(df_right, on=['ClienteID'], how='Inner').orderBy('ClienteID')\n",
    "tabcompleta.show()"
   ]
  },
  {
   "cell_type": "code",
   "execution_count": 10,
   "id": "fb878614",
   "metadata": {},
   "outputs": [
    {
     "name": "stdout",
     "output_type": "stream",
     "text": [
      "+--------+-----------+\n",
      "|  Status|qtdd_vendas|\n",
      "+--------+-----------+\n",
      "|Platinum|          2|\n",
      "|    Gold|          3|\n",
      "|  Silver|        395|\n",
      "+--------+-----------+\n",
      "\n"
     ]
    }
   ],
   "source": [
    "# Após a junção, separei por status a somatória de vendas\n",
    "parte3 = tabcompleta.groupBy(\"Status\").agg(f.count(\"VendasID\").alias(\"qtdd_vendas\")).orderBy(f.col(\"qtdd_vendas\").asc())\n",
    "parte3.show()"
   ]
  },
  {
   "cell_type": "code",
   "execution_count": 22,
   "id": "a254d2db",
   "metadata": {},
   "outputs": [
    {
     "name": "stdout",
     "output_type": "stream",
     "text": [
      "+---------+---------------+\n",
      "|ClienteID|count(VendasID)|\n",
      "+---------+---------------+\n",
      "|        1|              1|\n",
      "|        2|              1|\n",
      "|        3|              1|\n",
      "|        5|              3|\n",
      "|        8|              1|\n",
      "|       14|              2|\n",
      "|       15|              3|\n",
      "|       16|              2|\n",
      "|       17|              1|\n",
      "|       19|              1|\n",
      "|       21|              1|\n",
      "|       24|              1|\n",
      "|       27|              4|\n",
      "|       30|              2|\n",
      "|       31|             83|\n",
      "|       32|              3|\n",
      "|       33|              2|\n",
      "|       35|              2|\n",
      "|       36|              2|\n",
      "|       39|              1|\n",
      "+---------+---------------+\n",
      "only showing top 20 rows\n",
      "\n"
     ]
    }
   ],
   "source": [
    "# Total de cada ClienteID\n",
    "parte4 = tabcompleta.groupBy(\"ClienteID\").agg(f.count(\"VendasID\")).orderBy([\"ClienteID\"], ascending = True)\n",
    "parte4.show()"
   ]
  },
  {
   "cell_type": "code",
   "execution_count": 23,
   "id": "23fe926c",
   "metadata": {},
   "outputs": [
    {
     "name": "stdout",
     "output_type": "stream",
     "text": [
      "+----------+---------------+\n",
      "|VendedorID|count(VendasID)|\n",
      "+----------+---------------+\n",
      "|         1|             28|\n",
      "|         2|             36|\n",
      "|         3|             37|\n",
      "|         4|             27|\n",
      "|         5|             78|\n",
      "|         6|             27|\n",
      "|         7|             58|\n",
      "|         8|             22|\n",
      "|         9|             33|\n",
      "|        10|             54|\n",
      "+----------+---------------+\n",
      "\n"
     ]
    }
   ],
   "source": [
    "# Total de cada VendedorID\n",
    "parte5 = tabcompleta.groupBy(\"VendedorID\").agg(f.count(\"VendasID\")).orderBy([\"VendedorID\"], ascending = True)\n",
    "parte5.show()"
   ]
  },
  {
   "cell_type": "code",
   "execution_count": 72,
   "id": "17e1db5f",
   "metadata": {},
   "outputs": [
    {
     "name": "stdout",
     "output_type": "stream",
     "text": [
      "+---------+-------------+\n",
      "|     Data|sum(VendasID)|\n",
      "+---------+-------------+\n",
      "| 1/1/2019|            1|\n",
      "| 1/1/2020|            2|\n",
      "| 2/1/2020|            3|\n",
      "| 2/1/2019|            4|\n",
      "| 3/1/2018|            5|\n",
      "| 4/1/2020|            6|\n",
      "| 8/1/2019|           11|\n",
      "| 9/1/2018|           12|\n",
      "|10/1/2019|           13|\n",
      "|12/1/2020|           14|\n",
      "|12/1/2018|           15|\n",
      "| 6/1/2019|           15|\n",
      "|13/1/2020|           16|\n",
      "|13/1/2019|           17|\n",
      "| 6/1/2020|           19|\n",
      "|15/1/2018|           20|\n",
      "|17/1/2019|           21|\n",
      "|17/1/2020|           22|\n",
      "|17/1/2018|           23|\n",
      "|18/1/2019|           24|\n",
      "+---------+-------------+\n",
      "only showing top 20 rows\n",
      "\n"
     ]
    }
   ],
   "source": [
    "# data que menos vendeu\n",
    "parte6 = tabcompleta.groupBy(\"Data\").agg(sum(\"VendasID\")).orderBy([\"sum(VendasID)\"], ascending = True)\n",
    "parte6.show()"
   ]
  },
  {
   "cell_type": "code",
   "execution_count": 26,
   "id": "3221d3f8",
   "metadata": {},
   "outputs": [
    {
     "name": "stdout",
     "output_type": "stream",
     "text": [
      "+----------+----------------------+\n",
      "|      Data|Quantidade_vendas_data|\n",
      "+----------+----------------------+\n",
      "|  4/3/2019|                     4|\n",
      "| 27/2/2019|                     3|\n",
      "| 14/5/2018|                     3|\n",
      "|25/10/2019|                     2|\n",
      "| 22/8/2020|                     2|\n",
      "|  6/7/2019|                     2|\n",
      "|22/10/2019|                     2|\n",
      "| 15/6/2020|                     2|\n",
      "| 27/1/2020|                     2|\n",
      "|  5/9/2019|                     2|\n",
      "|  6/1/2019|                     2|\n",
      "| 21/1/2018|                     2|\n",
      "| 29/4/2019|                     2|\n",
      "| 17/6/2020|                     2|\n",
      "| 11/2/2018|                     2|\n",
      "| 2/11/2019|                     2|\n",
      "| 19/5/2018|                     2|\n",
      "| 24/1/2020|                     2|\n",
      "| 16/8/2019|                     2|\n",
      "|16/11/2018|                     2|\n",
      "+----------+----------------------+\n",
      "only showing top 20 rows\n",
      "\n"
     ]
    }
   ],
   "source": [
    "# data que mais vendeu\n",
    "parte7 = tabcompleta.groupBy(\"Data\").agg(f.count(\"VendasID\").alias(\"Quantidade_vendas_data\")).orderBy([\"Quantidade_vendas_data\"], ascending = False)\n",
    "parte7.show()"
   ]
  },
  {
   "cell_type": "code",
   "execution_count": 75,
   "id": "86372992",
   "metadata": {},
   "outputs": [
    {
     "name": "stdout",
     "output_type": "stream",
     "text": [
      "+------+-------------+\n",
      "|Estado|sum(VendasID)|\n",
      "+------+-------------+\n",
      "|    AL|          341|\n",
      "|    CE|          582|\n",
      "|    PB|          640|\n",
      "|    PE|          679|\n",
      "|    PR|          697|\n",
      "|    GO|          830|\n",
      "|    RO|         1022|\n",
      "|    TO|         1247|\n",
      "|    AM|         1439|\n",
      "|    MT|         1528|\n",
      "|    SP|         1600|\n",
      "|    RN|         1927|\n",
      "|    MS|         1995|\n",
      "|    RR|         2110|\n",
      "|    AP|         2254|\n",
      "|    AC|         2431|\n",
      "|    RS|         2600|\n",
      "|    MA|         2872|\n",
      "|    SC|         2878|\n",
      "|    RJ|         2899|\n",
      "+------+-------------+\n",
      "only showing top 20 rows\n",
      "\n"
     ]
    }
   ],
   "source": [
    "# Total em cada estado\n",
    "parte8 = tabcompleta.groupBy(\"Estado\").agg(sum(\"VendasID\")).orderBy([\"sum(vendasID)\"], ascending = True)\n",
    "parte8.show()"
   ]
  },
  {
   "cell_type": "code",
   "execution_count": 76,
   "id": "fe92e03b",
   "metadata": {},
   "outputs": [
    {
     "name": "stdout",
     "output_type": "stream",
     "text": [
      "+--------+\n",
      "|   Total|\n",
      "+--------+\n",
      "| 32495.4|\n",
      "|29307.48|\n",
      "| 29180.4|\n",
      "| 28660.3|\n",
      "|27016.24|\n",
      "|26852.87|\n",
      "|26096.66|\n",
      "|25146.85|\n",
      "| 22751.4|\n",
      "|22711.68|\n",
      "|21471.75|\n",
      "| 21357.0|\n",
      "|21155.46|\n",
      "|20935.38|\n",
      "|20613.18|\n",
      "|20543.44|\n",
      "|20345.23|\n",
      "|20338.43|\n",
      "|20082.85|\n",
      "| 19966.6|\n",
      "+--------+\n",
      "only showing top 20 rows\n",
      "\n"
     ]
    }
   ],
   "source": [
    "# Valor máximo no total\n",
    "parte9 = tabcompleta.select(\"Total\").orderBy([\"Total\"], ascending = False)\n",
    "parte9.show()"
   ]
  },
  {
   "cell_type": "code",
   "execution_count": 77,
   "id": "20f42cf6",
   "metadata": {},
   "outputs": [
    {
     "name": "stdout",
     "output_type": "stream",
     "text": [
      "+------+\n",
      "| Total|\n",
      "+------+\n",
      "|  91.8|\n",
      "|  92.0|\n",
      "|  97.2|\n",
      "| 97.75|\n",
      "| 97.75|\n",
      "|103.28|\n",
      "|103.28|\n",
      "| 103.5|\n",
      "| 103.5|\n",
      "| 105.4|\n",
      "|114.75|\n",
      "| 115.0|\n",
      "| 115.0|\n",
      "| 115.0|\n",
      "|115.06|\n",
      "| 121.5|\n",
      "| 121.5|\n",
      "|127.84|\n",
      "|131.75|\n",
      "|131.75|\n",
      "+------+\n",
      "only showing top 20 rows\n",
      "\n"
     ]
    }
   ],
   "source": [
    "# Valor mínimo no total\n",
    "parte10 = tabcompleta.select(\"Total\").orderBy([\"Total\"], ascending = True)\n",
    "parte10.show()"
   ]
  },
  {
   "cell_type": "code",
   "execution_count": 21,
   "id": "3f08a0eb",
   "metadata": {},
   "outputs": [
    {
     "name": "stdout",
     "output_type": "stream",
     "text": [
      "+----------+-----------------+\n",
      "|VendedorID|   Média_vendedor|\n",
      "+----------+-----------------+\n",
      "|         4|9293.265185185186|\n",
      "|         5|8883.203461538464|\n",
      "|         9| 8337.07909090909|\n",
      "|         2|8188.474999999999|\n",
      "|         7|7502.186551724138|\n",
      "|         3|7120.183783783785|\n",
      "|         6| 6959.87962962963|\n",
      "|        10| 6849.74648148148|\n",
      "|         1|5958.993214285714|\n",
      "|         8|5328.068181818182|\n",
      "+----------+-----------------+\n",
      "\n"
     ]
    }
   ],
   "source": [
    "# Valor médio no total\n",
    "parte11 = tabcompleta.groupBy(\"VendedorID\").agg(avg(\"Total\").alias(\"Média_vendedor\")).orderBy(f.col(\"Média_vendedor\").desc())\n",
    "parte11.show()"
   ]
  },
  {
   "cell_type": "code",
   "execution_count": 79,
   "id": "eb9ad81c",
   "metadata": {},
   "outputs": [
    {
     "name": "stdout",
     "output_type": "stream",
     "text": [
      "+----------+-------------+\n",
      "|VendedorID|sum(VendasID)|\n",
      "+----------+-------------+\n",
      "|         5|        16576|\n",
      "|         7|        11861|\n",
      "|        10|        11357|\n",
      "|         3|         7658|\n",
      "|         9|         7060|\n",
      "|         1|         5754|\n",
      "|         6|         5723|\n",
      "|         2|         5238|\n",
      "|         8|         4893|\n",
      "|         4|         4080|\n",
      "+----------+-------------+\n",
      "\n"
     ]
    }
   ],
   "source": [
    "# Vendedor que mais vendeu\n",
    "parte12 = tabcompleta.groupBy(\"VendedorID\").agg(sum(\"VendasID\")).orderBy(f.col(\"sum(VendasID)\").desc())\n",
    "parte12.show()"
   ]
  },
  {
   "cell_type": "code",
   "execution_count": 80,
   "id": "1f69bda4",
   "metadata": {},
   "outputs": [
    {
     "name": "stdout",
     "output_type": "stream",
     "text": [
      "+----------+-------------+\n",
      "|VendedorID|sum(VendasID)|\n",
      "+----------+-------------+\n",
      "|         4|         4080|\n",
      "|         8|         4893|\n",
      "|         2|         5238|\n",
      "|         6|         5723|\n",
      "|         1|         5754|\n",
      "|         9|         7060|\n",
      "|         3|         7658|\n",
      "|        10|        11357|\n",
      "|         7|        11861|\n",
      "|         5|        16576|\n",
      "+----------+-------------+\n",
      "\n"
     ]
    }
   ],
   "source": [
    "# Vendedor que menos vendeu\n",
    "parte13 = tabcompleta.groupBy(\"VendedorID\").agg(sum(\"VendasID\")).orderBy(f.col(\"sum(VendasID)\").asc())\n",
    "parte13.show()"
   ]
  },
  {
   "cell_type": "code",
   "execution_count": 82,
   "id": "ab8cbd5d",
   "metadata": {},
   "outputs": [
    {
     "name": "stdout",
     "output_type": "stream",
     "text": [
      "+------+-------------+\n",
      "|Genero|sum(VendasID)|\n",
      "+------+-------------+\n",
      "|     M|        44336|\n",
      "|     F|        35864|\n",
      "+------+-------------+\n",
      "\n"
     ]
    }
   ],
   "source": [
    "# Qual gênero mais comprou\n",
    "parte14 = tabcompleta.groupBy(\"Genero\").agg(sum(\"VendasID\")).orderBy(f.col(\"sum(VendasID)\").desc())\n",
    "parte14.show()"
   ]
  },
  {
   "cell_type": "code",
   "execution_count": null,
   "id": "5e5985e6",
   "metadata": {},
   "outputs": [],
   "source": []
  }
 ],
 "metadata": {
  "kernelspec": {
   "display_name": "Python 3 (ipykernel)",
   "language": "python",
   "name": "python3"
  },
  "language_info": {
   "codemirror_mode": {
    "name": "ipython",
    "version": 3
   },
   "file_extension": ".py",
   "mimetype": "text/x-python",
   "name": "python",
   "nbconvert_exporter": "python",
   "pygments_lexer": "ipython3",
   "version": "3.9.7"
  }
 },
 "nbformat": 4,
 "nbformat_minor": 5
}
